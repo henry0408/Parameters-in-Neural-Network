{
  "nbformat": 4,
  "nbformat_minor": 0,
  "metadata": {
    "colab": {
      "name": "Untitled0.ipynb",
      "provenance": [],
      "collapsed_sections": []
    },
    "kernelspec": {
      "name": "python3",
      "display_name": "Python 3"
    },
    "language_info": {
      "name": "python"
    },
    "accelerator": "GPU"
  },
  "cells": [
    {
      "cell_type": "code",
      "metadata": {
        "id": "cFRFgYgwWNUL"
      },
      "source": [
        "# useful packages\n",
        "import torch\n",
        "import torchvision\n",
        "import torchvision.transforms as transforms\n",
        "from torch import nn\n",
        "from torch.utils.data import DataLoader"
      ],
      "execution_count": 18,
      "outputs": []
    },
    {
      "cell_type": "code",
      "metadata": {
        "colab": {
          "base_uri": "https://localhost:8080/"
        },
        "id": "fhloA_bZWSX8",
        "outputId": "c3fd4e91-6eec-400a-d695-4b10f8f106a7"
      },
      "source": [
        "print(torch.cuda.is_available())"
      ],
      "execution_count": 19,
      "outputs": [
        {
          "output_type": "stream",
          "name": "stdout",
          "text": [
            "True\n"
          ]
        }
      ]
    },
    {
      "cell_type": "code",
      "metadata": {
        "id": "yGgw8P0rWmXH"
      },
      "source": [
        "train_transform = transforms.Compose(\n",
        "    [transforms.Resize(45),transforms.ToTensor(), \n",
        "     transforms.Normalize((0.5, 0.5, 0.5), (0.5, 0.5, 0.5))])\n",
        "\n",
        "# test_transform = transforms.ToTensor()\n",
        "test_transform = train_transform # keep test_transform the same as the train_transform"
      ],
      "execution_count": 20,
      "outputs": []
    },
    {
      "cell_type": "code",
      "metadata": {
        "colab": {
          "base_uri": "https://localhost:8080/"
        },
        "id": "eia_YkQFWoTT",
        "outputId": "0580b954-b699-4009-e2e7-bac31e73e312"
      },
      "source": [
        "trainset = torchvision.datasets.CIFAR10(root='./data', train=True,\n",
        "                                        download=True, transform=train_transform)\n",
        "trainloader = torch.utils.data.DataLoader(trainset, batch_size=4,\n",
        "                                          shuffle=True, num_workers=2)\n",
        "\n",
        "testset = torchvision.datasets.CIFAR10(root='./data', train=False,\n",
        "                                       download=True, transform=test_transform)\n",
        "testloader = torch.utils.data.DataLoader(testset, batch_size=256,\n",
        "                                         shuffle=False, num_workers=2)\n",
        "\n",
        "classes = ('plane', 'car', 'bird', 'cat',\n",
        "           'deer', 'dog', 'frog', 'horse', 'ship', 'truck')"
      ],
      "execution_count": 21,
      "outputs": [
        {
          "output_type": "stream",
          "name": "stdout",
          "text": [
            "Files already downloaded and verified\n",
            "Files already downloaded and verified\n"
          ]
        }
      ]
    },
    {
      "cell_type": "code",
      "metadata": {
        "colab": {
          "base_uri": "https://localhost:8080/"
        },
        "id": "5SPb7EcUXQDJ",
        "outputId": "bfb6b8d7-b78c-4935-c1d3-fcdd63a325d3"
      },
      "source": [
        "from sklearn.model_selection import train_test_split\n",
        "\n",
        "train_set, val_set = train_test_split(trainset, test_size=0.1, random_state=10)\n",
        "print(len(train_set))\n",
        "print(len(val_set))\n",
        "print(len(testset))\n",
        "# when batch is 8\n",
        "trainloader8 = torch.utils.data.DataLoader(train_set, batch_size=256,\n",
        "                                          shuffle=False, num_workers=2)\n",
        "valloader8 = torch.utils.data.DataLoader(val_set, batch_size=256  ,\n",
        "                                          shuffle=False, num_workers=2)"
      ],
      "execution_count": 22,
      "outputs": [
        {
          "output_type": "stream",
          "name": "stdout",
          "text": [
            "45000\n",
            "5000\n",
            "10000\n"
          ]
        }
      ]
    },
    {
      "cell_type": "code",
      "metadata": {
        "id": "THM_eBiBWOFt"
      },
      "source": [
        "class Baseline(nn.Module):\n",
        "    def __init__(self):\n",
        "        super(Baseline, self).__init__()\n",
        "        # define the network layers\n",
        "        layer1 = nn.Sequential(nn.Conv2d( 3, 16, 3),nn.ReLU(True),nn.MaxPool2d(2,2))\n",
        "        self.conv1 = layer1\n",
        "        \n",
        "        layer2 = nn.Sequential(nn.Conv2d( 16, 32, 3),nn.ReLU(True),nn.MaxPool2d(2,2))\n",
        "        self.conv2 = layer2\n",
        "        \n",
        "        layer3 = nn.Sequential(nn.Conv2d( 32, 64, 3),nn.ReLU(True),nn.MaxPool2d(2,2))\n",
        "        self.conv3 = layer3\n",
        "\n",
        "        layer4 = nn.Sequential(nn.Linear(64*3*3, 250),nn.ReLU(True),nn.Linear(250, 100),nn.ReLU(True), nn.Linear(100, 10))\n",
        "        self.fc = layer4\n",
        "\n",
        "    def forward(self, x):\n",
        "        # define the network structure\n",
        "        conv1 = self.conv1(x)\n",
        "        conv2 = self.conv2(conv1)\n",
        "        conv3 = self.conv3(conv2)\n",
        "        fc_input = conv3.view(-1,64*3*3)\n",
        "        fc_out = self.fc(fc_input)\n",
        "        return fc_out\n",
        "\n",
        "net = Baseline().cuda()"
      ],
      "execution_count": 76,
      "outputs": []
    },
    {
      "cell_type": "code",
      "metadata": {
        "id": "O_Z5uscGW0rQ"
      },
      "source": [
        "import torch.optim as optim\n",
        "\n",
        "criterion = nn.CrossEntropyLoss()\n",
        "optimizer = optim.SGD(net.parameters(), lr=0.01, momentum=0.9)"
      ],
      "execution_count": 77,
      "outputs": []
    },
    {
      "cell_type": "code",
      "metadata": {
        "id": "nxKF9SuuW3JC"
      },
      "source": [
        "def testset_precision(net, testset):\n",
        "    dl = DataLoader(testset, batch_size = 128) # load test set\n",
        "    total_count = 0  # total numbers of test set\n",
        "    total_correct = 0 # total correct predictions of test set\n",
        "    for data in dl:  # iterate test set\n",
        "        inputs = data[0].cuda()  # input data, such as images, etc\n",
        "        targets = data[1].cuda()   # ground truth labels\n",
        "        outputs = net(inputs)    # get the outputs from network\n",
        "        predicted_labels = outputs.argmax(dim=1)  # obtain the class with highest score as prediction\n",
        "        comparison = predicted_labels == targets  # get a [True, False,...] matrix. True means correct prediction\n",
        "        total_count += predicted_labels.size(0)   # accumulate the test number\n",
        "        total_correct += comparison.sum()      # accumulate the number of correct predictions\n",
        "        \n",
        "    return int(total_correct) / int(total_count)"
      ],
      "execution_count": 78,
      "outputs": []
    },
    {
      "cell_type": "code",
      "metadata": {
        "colab": {
          "base_uri": "https://localhost:8080/"
        },
        "id": "FzvWE4-_W3zb",
        "outputId": "05360620-84ec-48db-d013-4a6a1e44f392"
      },
      "source": [
        "train_loss = []\n",
        "test_acc = []\n",
        "val_loss = []\n",
        "val_acc = []\n",
        "for epoch in range(30):  # loop over the dataset multiple times\n",
        "  \n",
        "  val_running_loss = 0.0\n",
        "  for i, data in enumerate(valloader8, 0):\n",
        "          # get the inputs\n",
        "      inputs, labels = data\n",
        "      if torch.cuda.is_available():\n",
        "        inputs,labels = inputs.cuda(), labels.cuda()\n",
        "          # zero the parameter gradients\n",
        "      optimizer.zero_grad()\n",
        "\n",
        "          # forward + backward + optimize\n",
        "      outputs = net(inputs)\n",
        "      loss = criterion(outputs, labels)\n",
        "      loss.backward()\n",
        "      optimizer.step()\n",
        "      if torch.cuda.is_available():\n",
        "        loss = loss.cpu()\n",
        "\n",
        "          # print statistics\n",
        "      val_running_loss += loss.item()\n",
        "  print('The val_loss of the %d epoch is: %.3f' %\n",
        "                    (epoch + 1, val_running_loss / len(valloader8)))\n",
        "  a = testset_precision(net, val_set)\n",
        "  print(f'validation set accuracy is: {a}')\n",
        "  val_loss.append(val_running_loss / len(valloader8))\n",
        "  val_acc.append(a)\n",
        "\n",
        "  train_running_loss = 0.0\n",
        "  for i, data in enumerate(trainloader8, 0):\n",
        "          # get the inputs\n",
        "      inputs, labels = data\n",
        "      if torch.cuda.is_available():\n",
        "        inputs,labels = inputs.cuda(), labels.cuda()\n",
        "          # zero the parameter gradients\n",
        "      optimizer.zero_grad()\n",
        "\n",
        "          # forward + backward + optimize\n",
        "      outputs = net(inputs)\n",
        "      loss = criterion(outputs, labels)\n",
        "      loss.backward()\n",
        "      optimizer.step()\n",
        "      if torch.cuda.is_available():\n",
        "        loss = loss.cpu()\n",
        "\n",
        "          # print statistics\n",
        "      train_running_loss += loss.item()\n",
        "  print('The train_loss of the %d epoch is: %.3f' %\n",
        "                    (epoch + 1, train_running_loss / len(trainloader8)))\n",
        "  b = testset_precision(net, testset)\n",
        "  print(f'test set accuracy is: {b}')\n",
        "  train_loss.append(train_running_loss / len(trainloader8))\n",
        "  test_acc.append(b)"
      ],
      "execution_count": 79,
      "outputs": [
        {
          "output_type": "stream",
          "name": "stdout",
          "text": [
            "The val_loss of the 1 epoch is: 2.305\n",
            "validation set accuracy is: 0.0974\n",
            "The train_loss of the 1 epoch is: 2.295\n",
            "test set accuracy is: 0.1802\n",
            "The val_loss of the 2 epoch is: 2.260\n",
            "validation set accuracy is: 0.1738\n",
            "The train_loss of the 2 epoch is: 2.083\n",
            "test set accuracy is: 0.2682\n",
            "The val_loss of the 3 epoch is: 1.976\n",
            "validation set accuracy is: 0.2602\n",
            "The train_loss of the 3 epoch is: 1.841\n",
            "test set accuracy is: 0.3709\n",
            "The val_loss of the 4 epoch is: 1.683\n",
            "validation set accuracy is: 0.398\n",
            "The train_loss of the 4 epoch is: 1.624\n",
            "test set accuracy is: 0.4064\n",
            "The val_loss of the 5 epoch is: 1.576\n",
            "validation set accuracy is: 0.44\n",
            "The train_loss of the 5 epoch is: 1.508\n",
            "test set accuracy is: 0.4546\n",
            "The val_loss of the 6 epoch is: 1.475\n",
            "validation set accuracy is: 0.4956\n",
            "The train_loss of the 6 epoch is: 1.417\n",
            "test set accuracy is: 0.4918\n",
            "The val_loss of the 7 epoch is: 1.382\n",
            "validation set accuracy is: 0.5322\n",
            "The train_loss of the 7 epoch is: 1.334\n",
            "test set accuracy is: 0.5201\n",
            "The val_loss of the 8 epoch is: 1.303\n",
            "validation set accuracy is: 0.5606\n",
            "The train_loss of the 8 epoch is: 1.252\n",
            "test set accuracy is: 0.5495\n",
            "The val_loss of the 9 epoch is: 1.235\n",
            "validation set accuracy is: 0.607\n",
            "The train_loss of the 9 epoch is: 1.181\n",
            "test set accuracy is: 0.5746\n",
            "The val_loss of the 10 epoch is: 1.161\n",
            "validation set accuracy is: 0.624\n",
            "The train_loss of the 10 epoch is: 1.110\n",
            "test set accuracy is: 0.5908\n",
            "The val_loss of the 11 epoch is: 1.098\n",
            "validation set accuracy is: 0.6558\n",
            "The train_loss of the 11 epoch is: 1.045\n",
            "test set accuracy is: 0.614\n",
            "The val_loss of the 12 epoch is: 1.027\n",
            "validation set accuracy is: 0.68\n",
            "The train_loss of the 12 epoch is: 0.984\n",
            "test set accuracy is: 0.6315\n",
            "The val_loss of the 13 epoch is: 0.965\n",
            "validation set accuracy is: 0.7024\n",
            "The train_loss of the 13 epoch is: 0.932\n",
            "test set accuracy is: 0.6368\n",
            "The val_loss of the 14 epoch is: 0.910\n",
            "validation set accuracy is: 0.7246\n",
            "The train_loss of the 14 epoch is: 0.880\n",
            "test set accuracy is: 0.6395\n",
            "The val_loss of the 15 epoch is: 0.868\n",
            "validation set accuracy is: 0.737\n",
            "The train_loss of the 15 epoch is: 0.834\n",
            "test set accuracy is: 0.6567\n",
            "The val_loss of the 16 epoch is: 0.815\n",
            "validation set accuracy is: 0.7496\n",
            "The train_loss of the 16 epoch is: 0.790\n",
            "test set accuracy is: 0.6606\n",
            "The val_loss of the 17 epoch is: 0.768\n",
            "validation set accuracy is: 0.7668\n",
            "The train_loss of the 17 epoch is: 0.760\n",
            "test set accuracy is: 0.6626\n",
            "The val_loss of the 18 epoch is: 0.735\n",
            "validation set accuracy is: 0.7854\n",
            "The train_loss of the 18 epoch is: 0.731\n",
            "test set accuracy is: 0.6538\n",
            "The val_loss of the 19 epoch is: 0.725\n",
            "validation set accuracy is: 0.7934\n",
            "The train_loss of the 19 epoch is: 0.690\n",
            "test set accuracy is: 0.6602\n",
            "The val_loss of the 20 epoch is: 0.698\n",
            "validation set accuracy is: 0.7924\n",
            "The train_loss of the 20 epoch is: 0.656\n",
            "test set accuracy is: 0.6708\n",
            "The val_loss of the 21 epoch is: 0.655\n",
            "validation set accuracy is: 0.787\n",
            "The train_loss of the 21 epoch is: 0.608\n",
            "test set accuracy is: 0.6696\n",
            "The val_loss of the 22 epoch is: 0.606\n",
            "validation set accuracy is: 0.812\n",
            "The train_loss of the 22 epoch is: 0.582\n",
            "test set accuracy is: 0.6692\n",
            "The val_loss of the 23 epoch is: 0.580\n",
            "validation set accuracy is: 0.8376\n",
            "The train_loss of the 23 epoch is: 0.565\n",
            "test set accuracy is: 0.6737\n",
            "The val_loss of the 24 epoch is: 0.531\n",
            "validation set accuracy is: 0.8\n",
            "The train_loss of the 24 epoch is: 0.562\n",
            "test set accuracy is: 0.6607\n",
            "The val_loss of the 25 epoch is: 0.513\n",
            "validation set accuracy is: 0.8202\n",
            "The train_loss of the 25 epoch is: 0.546\n",
            "test set accuracy is: 0.6387\n",
            "The val_loss of the 26 epoch is: 0.523\n",
            "validation set accuracy is: 0.8454\n",
            "The train_loss of the 26 epoch is: 0.525\n",
            "test set accuracy is: 0.6551\n",
            "The val_loss of the 27 epoch is: 0.484\n",
            "validation set accuracy is: 0.8802\n",
            "The train_loss of the 27 epoch is: 0.499\n",
            "test set accuracy is: 0.6517\n",
            "The val_loss of the 28 epoch is: 0.431\n",
            "validation set accuracy is: 0.8648\n",
            "The train_loss of the 28 epoch is: 0.459\n",
            "test set accuracy is: 0.6447\n",
            "The val_loss of the 29 epoch is: 0.411\n",
            "validation set accuracy is: 0.8842\n",
            "The train_loss of the 29 epoch is: 0.435\n",
            "test set accuracy is: 0.6504\n",
            "The val_loss of the 30 epoch is: 0.393\n",
            "validation set accuracy is: 0.8774\n",
            "The train_loss of the 30 epoch is: 0.428\n",
            "test set accuracy is: 0.6583\n"
          ]
        }
      ]
    },
    {
      "cell_type": "code",
      "metadata": {
        "colab": {
          "base_uri": "https://localhost:8080/",
          "height": 295
        },
        "id": "LKMmuWC7XX3t",
        "outputId": "9434a063-4159-4d05-dd02-4c978c6c9707"
      },
      "source": [
        "import matplotlib.pyplot as plt\n",
        "import numpy as np\n",
        "\n",
        "# functions to show the loss\n",
        "plt.figure()\n",
        "plt.title('Training loss and Validation loss over time')\n",
        "plt.plot(train_loss,'-',color = 'royalblue')\n",
        "plt.plot(val_loss,'-',color = 'red')\n",
        "plt.legend([' Training ',' Validation '])\n",
        "plt.xlabel('Iteration times (with different value of mini-batches)')\n",
        "plt.ylabel('Loss')\n",
        "plt.show()"
      ],
      "execution_count": 80,
      "outputs": [
        {
          "output_type": "display_data",
          "data": {
            "image/png": "[encoded data removed]",
            "text/plain": [
              "<Figure size 432x288 with 1 Axes>"
            ]
          },
          "metadata": {
            "needs_background": "light"
          }
        }
      ]
    },
    {
      "cell_type": "code",
      "metadata": {
        "colab": {
          "base_uri": "https://localhost:8080/",
          "height": 295
        },
        "id": "zta-VR_ndgIt",
        "outputId": "580dab2a-5923-4228-b74e-3e97aaf5859b"
      },
      "source": [
        "# functions to show the loss\n",
        "plt.figure()\n",
        "plt.title('Training accuracy and Validation accuracy over time')\n",
        "plt.plot(test_acc,'-',color = 'royalblue')\n",
        "plt.plot(val_acc,'-',color = 'red')\n",
        "plt.legend([' Testing ',' Validation '])\n",
        "plt.xlabel('Iteration times (with different value of mini-batches)')\n",
        "plt.ylabel('Accuracy')\n",
        "plt.show()"
      ],
      "execution_count": 81,
      "outputs": [
        {
          "output_type": "display_data",
          "data": {
            "image/png": "[encoded data removed]",
            "text/plain": [
              "<Figure size 432x288 with 1 Axes>"
            ]
          },
          "metadata": {
            "needs_background": "light"
          }
        }
      ]
    },
    {
      "cell_type": "code",
      "metadata": {
        "id": "OMN7s4J1h28U"
      },
      "source": [
        "PATH1 = './drive/My Drive/baseline.pth'\n",
        "torch.save(net.state_dict(), PATH1)"
      ],
      "execution_count": 82,
      "outputs": []
    },
    {
      "cell_type": "code",
      "metadata": {
        "id": "hdnE8D3Zb49U"
      },
      "source": [
        "class Modified(nn.Module):\n",
        "    def __init__(self):\n",
        "        super(Modified, self).__init__()\n",
        "        # define the network layers\n",
        "        # layer1 = nn.Sequential(nn.Conv2d( 3, 6, 3),nn.BatchNorm2d(6),nn.ReLU(True),nn.MaxPool2d(2,2))\n",
        "        layer1 = nn.Sequential(nn.Conv2d( 3, 16, 3),nn.BatchNorm2d(16),nn.ReLU(True),nn.MaxPool2d(2,2))\n",
        "        self.conv1 = layer1\n",
        "        \n",
        "        # layer2 = nn.Sequential(nn.Conv2d( 6, 16, 3),nn.BatchNorm2d(16),nn.ReLU(True),nn.MaxPool2d(2,2))\n",
        "        layer2 = nn.Sequential(nn.Conv2d( 16, 32, 3),nn.BatchNorm2d(32),nn.ReLU(True),nn.MaxPool2d(2,2))\n",
        "        self.conv2 = layer2\n",
        "        \n",
        "        # layer3 = nn.Sequential(nn.Conv2d( 16, 32, 3),nn.BatchNorm2d(32),nn.ReLU(True),nn.MaxPool2d(2,2))\n",
        "        layer3 = nn.Sequential(nn.Conv2d( 32, 64, 3),nn.BatchNorm2d(64),nn.ReLU(True),nn.MaxPool2d(2,2))\n",
        "        self.conv3 = layer3\n",
        "\n",
        "        layer4 = nn.Sequential(nn.Linear(64*3*3, 250),nn.Dropout(p=0.3),nn.ReLU(True),nn.Linear(250, 100),nn.Dropout(p=0.3),nn.ReLU(True),nn.Linear(100, 10))\n",
        "        self.fc = layer4\n",
        "\n",
        "\n",
        "    def forward(self, x):\n",
        "        # define the network structure\n",
        "        conv1 = self.conv1(x)\n",
        "        conv2 = self.conv2(conv1)\n",
        "        conv3 = self.conv3(conv2)\n",
        "        fc_input = conv3.view(-1,64*3*3)\n",
        "        fc_out = self.fc(fc_input)\n",
        "        return fc_out\n",
        "\n",
        "net2 = Modified().cuda()"
      ],
      "execution_count": 63,
      "outputs": []
    },
    {
      "cell_type": "code",
      "metadata": {
        "id": "DuCszy5edPD-"
      },
      "source": [
        "import torch.optim as optim\n",
        "\n",
        "criterion = nn.CrossEntropyLoss()\n",
        "optimizer = optim.SGD(net2.parameters(), lr=0.01, momentum=0.95, weight_decay=1e-3)\n",
        "\n",
        "# lambda1 =lambda epoch: 0.95**epoch\n",
        "# scheduler = torch.optim.lr_scheduler.LambdaLR(optimizer, lr_lambda=lambda1)\n",
        "\n"
      ],
      "execution_count": 64,
      "outputs": []
    },
    {
      "cell_type": "code",
      "metadata": {
        "colab": {
          "base_uri": "https://localhost:8080/"
        },
        "id": "T_uqeF08dWnB",
        "outputId": "56fb668a-6e9c-4c51-f963-c19a178d1536"
      },
      "source": [
        "my_train_loss = []\n",
        "my_test_acc = []\n",
        "my_val_loss = []\n",
        "my_val_acc = []\n",
        "for epoch in range(30):  # loop over the dataset multiple times\n",
        "  # scheduler.step()\n",
        "  val_running_loss = 0.0\n",
        "  for i, data in enumerate(valloader8, 0):\n",
        "          # get the inputs\n",
        "      inputs, labels = data\n",
        "      if torch.cuda.is_available():\n",
        "        inputs,labels = inputs.cuda(), labels.cuda()\n",
        "          # zero the parameter gradients\n",
        "      optimizer.zero_grad()\n",
        "\n",
        "          # forward + backward + optimize\n",
        "      outputs = net2(inputs)\n",
        "      loss = criterion(outputs, labels)\n",
        "      loss.backward()\n",
        "      optimizer.step()\n",
        "      if torch.cuda.is_available():\n",
        "        loss = loss.cpu()\n",
        "\n",
        "          # print statistics\n",
        "      val_running_loss += loss.item()\n",
        "  print('The val_loss of the %d epoch is: %.3f' %\n",
        "                    (epoch + 1, val_running_loss / len(valloader8)))\n",
        "  a = testset_precision(net2, val_set)\n",
        "  print(f'validation set accuracy is: {a}')\n",
        "  my_val_loss.append(val_running_loss / len(valloader8))\n",
        "  my_val_acc.append(a)\n",
        "\n",
        "  train_running_loss = 0.0\n",
        "  for i, data in enumerate(trainloader8, 0):\n",
        "          # get the inputs\n",
        "      inputs, labels = data\n",
        "      if torch.cuda.is_available():\n",
        "        inputs,labels = inputs.cuda(), labels.cuda()\n",
        "          # zero the parameter gradients\n",
        "      optimizer.zero_grad()\n",
        "\n",
        "          # forward + backward + optimize\n",
        "      outputs = net2(inputs)\n",
        "      loss = criterion(outputs, labels)\n",
        "      loss.backward()\n",
        "      optimizer.step()\n",
        "      if torch.cuda.is_available():\n",
        "        loss = loss.cpu()\n",
        "\n",
        "          # print statistics\n",
        "      train_running_loss += loss.item()\n",
        "  print('The train_loss of the %d epoch is: %.3f' %\n",
        "                    (epoch + 1, train_running_loss / len(trainloader8)))\n",
        "  b = testset_precision(net2, testset)\n",
        "  print(f'test set accuracy is: {b}')\n",
        "  my_train_loss.append(train_running_loss / len(trainloader8))\n",
        "  my_test_acc.append(b)\n"
      ],
      "execution_count": 65,
      "outputs": [
        {
          "output_type": "stream",
          "name": "stdout",
          "text": [
            "The val_loss of the 1 epoch is: 2.277\n",
            "validation set accuracy is: 0.223\n",
            "The train_loss of the 1 epoch is: 1.673\n",
            "test set accuracy is: 0.4674\n",
            "The val_loss of the 2 epoch is: 1.440\n",
            "validation set accuracy is: 0.4998\n",
            "The train_loss of the 2 epoch is: 1.321\n",
            "test set accuracy is: 0.5474\n",
            "The val_loss of the 3 epoch is: 1.246\n",
            "validation set accuracy is: 0.5704\n",
            "The train_loss of the 3 epoch is: 1.171\n",
            "test set accuracy is: 0.5918\n",
            "The val_loss of the 4 epoch is: 1.111\n",
            "validation set accuracy is: 0.6164\n",
            "The train_loss of the 4 epoch is: 1.062\n",
            "test set accuracy is: 0.6203\n",
            "The val_loss of the 5 epoch is: 1.011\n",
            "validation set accuracy is: 0.6614\n",
            "The train_loss of the 5 epoch is: 0.989\n",
            "test set accuracy is: 0.6346\n",
            "The val_loss of the 6 epoch is: 0.946\n",
            "validation set accuracy is: 0.685\n",
            "The train_loss of the 6 epoch is: 0.929\n",
            "test set accuracy is: 0.6515\n",
            "The val_loss of the 7 epoch is: 0.904\n",
            "validation set accuracy is: 0.7008\n",
            "The train_loss of the 7 epoch is: 0.888\n",
            "test set accuracy is: 0.6656\n",
            "The val_loss of the 8 epoch is: 0.864\n",
            "validation set accuracy is: 0.7242\n",
            "The train_loss of the 8 epoch is: 0.844\n",
            "test set accuracy is: 0.6721\n",
            "The val_loss of the 9 epoch is: 0.827\n",
            "validation set accuracy is: 0.7356\n",
            "The train_loss of the 9 epoch is: 0.806\n",
            "test set accuracy is: 0.6741\n",
            "The val_loss of the 10 epoch is: 0.787\n",
            "validation set accuracy is: 0.7594\n",
            "The train_loss of the 10 epoch is: 0.761\n",
            "test set accuracy is: 0.6806\n",
            "The val_loss of the 11 epoch is: 0.758\n",
            "validation set accuracy is: 0.7652\n",
            "The train_loss of the 11 epoch is: 0.749\n",
            "test set accuracy is: 0.6902\n",
            "The val_loss of the 12 epoch is: 0.726\n",
            "validation set accuracy is: 0.7782\n",
            "The train_loss of the 12 epoch is: 0.715\n",
            "test set accuracy is: 0.6922\n",
            "The val_loss of the 13 epoch is: 0.683\n",
            "validation set accuracy is: 0.799\n",
            "The train_loss of the 13 epoch is: 0.685\n",
            "test set accuracy is: 0.6847\n",
            "The val_loss of the 14 epoch is: 0.686\n",
            "validation set accuracy is: 0.7942\n",
            "The train_loss of the 14 epoch is: 0.670\n",
            "test set accuracy is: 0.6892\n",
            "The val_loss of the 15 epoch is: 0.649\n",
            "validation set accuracy is: 0.7924\n",
            "The train_loss of the 15 epoch is: 0.653\n",
            "test set accuracy is: 0.681\n",
            "The val_loss of the 16 epoch is: 0.651\n",
            "validation set accuracy is: 0.796\n",
            "The train_loss of the 16 epoch is: 0.639\n",
            "test set accuracy is: 0.6896\n",
            "The val_loss of the 17 epoch is: 0.642\n",
            "validation set accuracy is: 0.805\n",
            "The train_loss of the 17 epoch is: 0.623\n",
            "test set accuracy is: 0.6927\n",
            "The val_loss of the 18 epoch is: 0.595\n",
            "validation set accuracy is: 0.8132\n",
            "The train_loss of the 18 epoch is: 0.611\n",
            "test set accuracy is: 0.689\n",
            "The val_loss of the 19 epoch is: 0.610\n",
            "validation set accuracy is: 0.8048\n",
            "The train_loss of the 19 epoch is: 0.606\n",
            "test set accuracy is: 0.6934\n",
            "The val_loss of the 20 epoch is: 0.584\n",
            "validation set accuracy is: 0.8152\n",
            "The train_loss of the 20 epoch is: 0.595\n",
            "test set accuracy is: 0.6947\n",
            "The val_loss of the 21 epoch is: 0.568\n",
            "validation set accuracy is: 0.8162\n",
            "The train_loss of the 21 epoch is: 0.580\n",
            "test set accuracy is: 0.6903\n",
            "The val_loss of the 22 epoch is: 0.564\n",
            "validation set accuracy is: 0.8242\n",
            "The train_loss of the 22 epoch is: 0.555\n",
            "test set accuracy is: 0.6918\n",
            "The val_loss of the 23 epoch is: 0.532\n",
            "validation set accuracy is: 0.8354\n",
            "The train_loss of the 23 epoch is: 0.548\n",
            "test set accuracy is: 0.6912\n",
            "The val_loss of the 24 epoch is: 0.520\n",
            "validation set accuracy is: 0.8332\n",
            "The train_loss of the 24 epoch is: 0.538\n",
            "test set accuracy is: 0.6926\n",
            "The val_loss of the 25 epoch is: 0.501\n",
            "validation set accuracy is: 0.8374\n",
            "The train_loss of the 25 epoch is: 0.518\n",
            "test set accuracy is: 0.7004\n",
            "The val_loss of the 26 epoch is: 0.478\n",
            "validation set accuracy is: 0.846\n",
            "The train_loss of the 26 epoch is: 0.508\n",
            "test set accuracy is: 0.6984\n",
            "The val_loss of the 27 epoch is: 0.492\n",
            "validation set accuracy is: 0.8382\n",
            "The train_loss of the 27 epoch is: 0.502\n",
            "test set accuracy is: 0.6914\n",
            "The val_loss of the 28 epoch is: 0.509\n",
            "validation set accuracy is: 0.8352\n",
            "The train_loss of the 28 epoch is: 0.492\n",
            "test set accuracy is: 0.7048\n",
            "The val_loss of the 29 epoch is: 0.477\n",
            "validation set accuracy is: 0.8494\n",
            "The train_loss of the 29 epoch is: 0.474\n",
            "test set accuracy is: 0.7014\n",
            "The val_loss of the 30 epoch is: 0.445\n",
            "validation set accuracy is: 0.8414\n",
            "The train_loss of the 30 epoch is: 0.467\n",
            "test set accuracy is: 0.6982\n"
          ]
        }
      ]
    },
    {
      "cell_type": "code",
      "metadata": {
        "colab": {
          "base_uri": "https://localhost:8080/",
          "height": 295
        },
        "id": "sTT1yUhSdZFv",
        "outputId": "f8c48df2-39e1-432d-bb04-f58d85669af5"
      },
      "source": [
        "import matplotlib.pyplot as plt\n",
        "import numpy as np\n",
        "\n",
        "# functions to show the loss\n",
        "plt.figure()\n",
        "plt.title('Training loss and Validation loss over time')\n",
        "plt.plot(my_train_loss,'-',color = 'royalblue')\n",
        "plt.plot(my_val_loss,'-',color = 'red')\n",
        "plt.legend([' Training ',' Validation '])\n",
        "plt.xlabel('Iteration times (with different value of mini-batches)')\n",
        "plt.ylabel('Loss')\n",
        "plt.show()"
      ],
      "execution_count": 66,
      "outputs": [
        {
          "output_type": "display_data",
          "data": {
            "image/png": "[encoded data removed]",
            "text/plain": [
              "<Figure size 432x288 with 1 Axes>"
            ]
          },
          "metadata": {
            "needs_background": "light"
          }
        }
      ]
    },
    {
      "cell_type": "code",
      "metadata": {
        "colab": {
          "base_uri": "https://localhost:8080/",
          "height": 295
        },
        "id": "afwNhb78djxd",
        "outputId": "6620e7c5-0680-488a-9baf-e16a38f122c7"
      },
      "source": [
        "# functions to show the loss\n",
        "plt.figure()\n",
        "plt.title('Test accuracy and Validation accuracy over time')\n",
        "plt.plot(my_test_acc,'-',color = 'royalblue')\n",
        "plt.plot(my_val_acc,'-',color = 'red')\n",
        "plt.legend([' Test ',' Validation '])\n",
        "plt.xlabel('Iteration times (with different value of mini-batches)')\n",
        "plt.ylabel('Accuracy')\n",
        "plt.show()"
      ],
      "execution_count": 67,
      "outputs": [
        {
          "output_type": "display_data",
          "data": {
            "image/png": "[encoded data removed]",
            "text/plain": [
              "<Figure size 432x288 with 1 Axes>"
            ]
          },
          "metadata": {
            "needs_background": "light"
          }
        }
      ]
    },
    {
      "cell_type": "code",
      "metadata": {
        "id": "bDu0MfWCbjIF"
      },
      "source": [
        "PATH = './drive/My Drive/modified.pth'\n",
        "torch.save(net2.state_dict(), PATH)\n"
      ],
      "execution_count": 69,
      "outputs": []
    },
    {
      "cell_type": "code",
      "metadata": {
        "colab": {
          "base_uri": "https://localhost:8080/",
          "height": 202
        },
        "id": "je3tU35CppuV",
        "outputId": "792c77df-2586-4d8c-c61f-097c6f3a6c89"
      },
      "source": [
        ""
      ],
      "execution_count": 18,
      "outputs": [
        {
          "output_type": "error",
          "ename": "NameError",
          "evalue": "ignored",
          "traceback": [
            "\u001b[0;31m---------------------------------------------------------------------------\u001b[0m",
            "\u001b[0;31mNameError\u001b[0m                                 Traceback (most recent call last)",
            "\u001b[0;32m<ipython-input-18-10b539dd983c>\u001b[0m in \u001b[0;36m<module>\u001b[0;34m()\u001b[0m\n\u001b[0;32m----> 1\u001b[0;31m \u001b[0mnet_loaded_from_file\u001b[0m \u001b[0;34m=\u001b[0m \u001b[0mmyCNN\u001b[0m\u001b[0;34m(\u001b[0m\u001b[0;34m)\u001b[0m\u001b[0;34m\u001b[0m\u001b[0;34m\u001b[0m\u001b[0m\n\u001b[0m\u001b[1;32m      2\u001b[0m \u001b[0mnet_loaded_from_file\u001b[0m\u001b[0;34m.\u001b[0m\u001b[0mload_state_dict\u001b[0m\u001b[0;34m(\u001b[0m\u001b[0mtorch\u001b[0m\u001b[0;34m.\u001b[0m\u001b[0mload\u001b[0m\u001b[0;34m(\u001b[0m\u001b[0mPATH\u001b[0m\u001b[0;34m)\u001b[0m\u001b[0;34m)\u001b[0m\u001b[0;34m\u001b[0m\u001b[0;34m\u001b[0m\u001b[0m\n\u001b[1;32m      3\u001b[0m \u001b[0mnet_loaded_from_file\u001b[0m\u001b[0;34m.\u001b[0m\u001b[0meval\u001b[0m\u001b[0;34m(\u001b[0m\u001b[0;34m)\u001b[0m \u001b[0;31m# change to evaluation situation, all parameters are not learnable\u001b[0m\u001b[0;34m\u001b[0m\u001b[0;34m\u001b[0m\u001b[0m\n",
            "\u001b[0;31mNameError\u001b[0m: name 'myCNN' is not defined"
          ]
        }
      ]
    }
  ]
}